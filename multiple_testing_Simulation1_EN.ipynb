{
  "nbformat": 4,
  "nbformat_minor": 0,
  "metadata": {
    "colab": {
      "provenance": [],
      "authorship_tag": "ABX9TyMTnOae6s8NRWSXN2j1VQyi",
      "include_colab_link": true
    },
    "kernelspec": {
      "name": "ir",
      "display_name": "R"
    },
    "language_info": {
      "name": "R"
    }
  },
  "cells": [
    {
      "cell_type": "markdown",
      "metadata": {
        "id": "view-in-github",
        "colab_type": "text"
      },
      "source": [
        "<a href=\"https://colab.research.google.com/github/obarakaz/stats/blob/main/multiple_testing_Simulation1_EN.ipynb\" target=\"_parent\"><img src=\"https://colab.research.google.com/assets/colab-badge.svg\" alt=\"Open In Colab\"/></a>"
      ]
    },
    {
      "cell_type": "markdown",
      "source": [
        "## The problems of multiple testing\n",
        "\n",
        "There is a student named John who only knows about the $t$-test for testing differences in means.\n",
        "He is unfamiliar with analysis of variance (*ANOVA*).\n",
        "\n",
        "Let's consider a scenario where John wants to test the null hypothesis $H_0$.  \n",
        "\n",
        "$$ \\text{H}_0:\\mu_{A} =\\mu_{B} =\\mu_{C} $$\n",
        "\n",
        "\n",
        "At this point, he assumes that the samples $a$, $b$, and $c$ are randomly selected from populations $A$, $B$, and $C$.\n",
        "\n",
        "In a $t$-test, it is not possible to simultaneously test the differences in means for all three groups. So John has no choice but to perform three separate $t$-tests:\n",
        "\n",
        "$$ \\text{H} _1:\\mu_{A} =\\mu_{B} $$\n",
        "$$ \\text{H} _2:\\mu_{B} =\\mu_{C} $$\n",
        "$$ \\text{H} _3:\\mu_{C} =\\mu_{A} $$\n",
        "\n",
        "However, this approach is known to **increase the risk of \"Type I errors\" (α errors)** due to the problem of multiple testing.\n",
        "\n",
        "> Suppl.: The purpose of the statistical testing is not to mathematically prove a definite constant but to reject it. Therefore, it is not possible to say that \"if null hypotheses 1 and 2 are rejected, 3 will automatically be rejected as well\". So it is necessary to test each of the three hypotheses as described above.\n"
      ],
      "metadata": {
        "id": "c_S03xuYNWz9"
      }
    },
    {
      "cell_type": "markdown",
      "source": [
        "In this situation, if $p = 0.05$ is used as the significance level as is the usual practice, a \"statistically significant difference\" will be claimed based on a much looser standard than 5% in practice.\n",
        "\n",
        "In the following, we will conduct a specific simulation."
      ],
      "metadata": {
        "id": "4c4ExQlsbdoj"
      }
    },
    {
      "cell_type": "markdown",
      "source": [
        "## Simulation Assumptions\n",
        "\n",
        "First, we hypothetically create three populations $A$, $B$, and $C$ where the \"population means are equal.\"\n",
        "\n",
        "In other words, the true scenario here is that:\n",
        "\n",
        "$$ \\mu_{A} =\\mu_{B} =\\mu_{C} $$\n",
        "\n",
        "\n",
        "Then, we sample from these populations $A$, $B$, and $C$, with each sample size being $n = 20$.\n",
        "\n",
        "The obtained samples are denoted as $a$, $b$, and $c$, respectively. Based on these sample means, we perform three $t$-tests (using the combinations $ab$, $bc$, and $ca$).\n",
        "\n",
        "As mentioned earlier, the null hypothesis we want to test here is that \"the population means for all three groups are equal,\" which can be stated as:\n",
        "\n",
        "$$ \\text{Null Hypothesis}:\\mu_{A} =\\mu_{B} =\\mu_{C} $$\n",
        "\n",
        "In this simulation, we already know that this null hypothesis is true.\n",
        "\n",
        "Therefore, when conducting $t$-tests using the randomly sampled data from $A$, $B$, and $C$, we must conclude that \"the null hypothesis cannot be rejected (=this is not statistically significant)\" for all pairs: $a$-$b$, $b$-$c$, and $c$-$a$.\n",
        "\n",
        "Any other conclusions are Type I errors (i.e., incorrectly claiming differences in population means).\n",
        "\n",
        "The table below illustrates the situations:\n",
        "\n",
        "\n",
        "| A vs B | B vs C | C vs A | Type I Error for All 3 Groups |\n",
        "| :--: | :--: | :--: | :--------------------: |\n",
        "| n.s. | n.s. | n.s. | Not committed(=OK)  |\n",
        "| sig.  | n.s. | n.s. | committed    |\n",
        "| n.s. | sig. | n.s.  | committed    |\n",
        "| n.s. | n.s. | sig.  | committed    |\n",
        "| sig. | sig. | n.s.  | committed    |\n",
        "| sig. | n.s. | sig.  | committed    |\n",
        "| n.s. | sig. | sig.  | committed    |\n",
        "| sig. | sig. | sig.  | committed    |\n",
        "\n",
        "> sig.: statistically significant\n",
        "\n",
        "> n.s.: statistically \"not\" significant"
      ],
      "metadata": {
        "id": "ZY3mYf0ob6uz"
      }
    },
    {
      "cell_type": "markdown",
      "source": [
        "## How to simulate\n",
        "\n",
        "\n",
        "Here is the outline of the steps for conducting the simulation:\n",
        "\n",
        "1. Generate random samples $a$, $b$, and $c$ from three hypothetical populations with equal population means (i.e., sampling).\n",
        "2. Perform $t$-tests for the three combinations $a$-$b$, $b$-$c$, and $c$-$a$, using a significance level of 0.05.\n",
        "3. Determine if any Type I errors were committed (i.e., if any of the tests were statistically significant).\n",
        "4. Repeat steps 1-3 a large number of times (=$m$ times).\n",
        "5. Calculate the proportion of times Type I errors were committed out of the $m$ repetitions.\n",
        "\n",
        "If the proportion calculated in the above process exceeds 0.05, it implies that we are \"claiming statistical significance using a significance level of 0.05 but actually using a more lenient criterion.\"\n",
        "\n",
        "Now, let's proceed with the simulation."
      ],
      "metadata": {
        "id": "1AteCG5jM8fP"
      }
    },
    {
      "cell_type": "markdown",
      "source": [
        "## Sim1: When all populations follow a standard normal distribution\n",
        "\n",
        "Let's start with the simplest simulation scenario, where populations $A$, $B$, and $C$ all follow a standard normal distribution (with a mean of 0 and a variance of 1).\n",
        "\n",
        "In this case, it is evident that:\n",
        "\n",
        "$$ \\mu_{A} =\\mu_{B} =\\mu_{C} (=0) $$\n",
        "\n",
        "\n",
        "So we know that the null hypothesis is true."
      ],
      "metadata": {
        "id": "xu4QdjcSNuH7"
      }
    },
    {
      "cell_type": "markdown",
      "source": [
        "### Step 1: Generating random samples a, b, and c\n",
        "\n",
        "We will extract samples $a$, $b$, and $c$ from a standard normal distribution with a sample size of $n = 20$."
      ],
      "metadata": {
        "id": "Xtvd1F9nOTM3"
      }
    },
    {
      "cell_type": "code",
      "source": [
        "# extract samples a, b, and c from a standard normal distribution\n",
        "a = rnorm(n=20)\n",
        "b = rnorm(n=20)\n",
        "c = rnorm(n=20)"
      ],
      "metadata": {
        "id": "eh07RGu3Nnvv"
      },
      "execution_count": 3,
      "outputs": []
    },
    {
      "cell_type": "code",
      "source": [
        "#appendix: let's see the histograms\n",
        "hist(a)\n",
        "hist(b)\n",
        "hist(c)"
      ],
      "metadata": {
        "colab": {
          "base_uri": "https://localhost:8080/",
          "height": 1000
        },
        "id": "dBTM9eXBPgZi",
        "outputId": "77616e35-b86d-46d2-ae89-530724155eaf"
      },
      "execution_count": 4,
      "outputs": [
        {
          "output_type": "display_data",
          "data": {
            "text/plain": [
              "Plot with title “Histogram of a”"
            ],
            "image/png": "[encoded data removed]"
          },
          "metadata": {
            "image/png": {
              "width": 420,
              "height": 420
            }
          }
        },
        {
          "output_type": "display_data",
          "data": {
            "text/plain": [
              "Plot with title “Histogram of b”"
            ],
            "image/png": "[encoded data removed]"
          },
          "metadata": {
            "image/png": {
              "width": 420,
              "height": 420
            }
          }
        },
        {
          "output_type": "display_data",
          "data": {
            "text/plain": [
              "Plot with title “Histogram of c”"
            ],
            "image/png": "[encoded data removed]"
          },
          "metadata": {
            "image/png": {
              "width": 420,
              "height": 420
            }
          }
        }
      ]
    },
    {
      "cell_type": "markdown",
      "source": [
        "### Step 2: Performing t-tests\n",
        "\n",
        "Next, we will conduct $t$-tests for the combinations $a$-$b$, $b$-$c$, and $c$-$a$.\n",
        "\n",
        "Since all groups have equal population variances of 1, we will specify \"var.equal=TRUE\""
      ],
      "metadata": {
        "id": "9ZrUiO7-VJiy"
      }
    },
    {
      "cell_type": "code",
      "source": [
        "abtest = t.test(a,b,var.equal=TRUE) # Assign the result of the t-test for the combination of a-b in \"abtest\"\n",
        "bctest = t.test(b,c,var.equal=TRUE) # Assign the result of the t-test for the combination of b-c in \"bctest\"\n",
        "catest = t.test(c,a,var.equal=TRUE) # aAssign the result of the t-test for the combination of c-a in \"catest\""
      ],
      "metadata": {
        "id": "hX2U6t8-VCb3"
      },
      "execution_count": 5,
      "outputs": []
    },
    {
      "cell_type": "code",
      "source": [
        "# Appendix\n",
        "# show the number of elements (= number of data types) in the variable \"abtest\"\n",
        "length(abtest)"
      ],
      "metadata": {
        "colab": {
          "base_uri": "https://localhost:8080/",
          "height": 34
        },
        "id": "oAynK0YAV5MH",
        "outputId": "36b38b5a-c6ef-4acd-8c85-c5b7bb08b6e8"
      },
      "execution_count": 6,
      "outputs": [
        {
          "output_type": "display_data",
          "data": {
            "text/html": [
              "10"
            ],
            "text/markdown": "10",
            "text/latex": "10",
            "text/plain": [
              "[1] 10"
            ]
          },
          "metadata": {}
        }
      ]
    },
    {
      "cell_type": "code",
      "source": [
        "# Appendix\n",
        "# display all the elements of \"abtest\"\n",
        "abtest[1] #t statistic\n",
        "abtest[2] #df = degree of freedom\n",
        "abtest[3] #p.value\n",
        "abtest[4] #confidence interval (compatibility interval)\n",
        "abtest[5] #estimate\n",
        "abtest[6] #null.value\n",
        "abtest[7] #stderr = SE; standard error\n",
        "abtest[8] #alternative = two-sided\n",
        "abtest[9] #method = Two-sample t-test\n",
        "abtest[10] #data name"
      ],
      "metadata": {
        "colab": {
          "base_uri": "https://localhost:8080/",
          "height": 221
        },
        "id": "eNAcgatSWSU_",
        "outputId": "bc6926f0-c566-461d-aac8-4e5fba556482"
      },
      "execution_count": 7,
      "outputs": [
        {
          "output_type": "display_data",
          "data": {
            "text/html": [
              "<strong>$statistic</strong> = <strong>t:</strong> 0.403357018159455"
            ],
            "text/markdown": "**$statistic** = **t:** 0.403357018159455",
            "text/latex": "\\textbf{\\$statistic} = \\textbf{t:} 0.403357018159455",
            "text/plain": [
              "$statistic\n",
              "       t \n",
              "0.403357 \n"
            ]
          },
          "metadata": {}
        },
        {
          "output_type": "display_data",
          "data": {
            "text/html": [
              "<strong>$parameter</strong> = <strong>df:</strong> 38"
            ],
            "text/markdown": "**$parameter** = **df:** 38",
            "text/latex": "\\textbf{\\$parameter} = \\textbf{df:} 38",
            "text/plain": [
              "$parameter\n",
              "df \n",
              "38 \n"
            ]
          },
          "metadata": {}
        },
        {
          "output_type": "display_data",
          "data": {
            "text/html": [
              "<strong>$p.value</strong> = 0.688946322395146"
            ],
            "text/markdown": "**$p.value** = 0.688946322395146",
            "text/latex": "\\textbf{\\$p.value} = 0.688946322395146",
            "text/plain": [
              "$p.value\n",
              "[1] 0.6889463\n"
            ]
          },
          "metadata": {}
        },
        {
          "output_type": "display_data",
          "data": {
            "text/html": [
              "<strong>$conf.int</strong> = <style>\n",
              ".list-inline {list-style: none; margin:0; padding: 0}\n",
              ".list-inline>li {display: inline-block}\n",
              ".list-inline>li:not(:last-child)::after {content: \"\\00b7\"; padding: 0 .5ex}\n",
              "</style>\n",
              "<ol class=list-inline><li>-0.526146157964382</li><li>0.787984384125509</li></ol>\n"
            ],
            "text/markdown": "**$conf.int** = 1. -0.526146157964382\n2. 0.787984384125509\n\n\n",
            "text/latex": "\\textbf{\\$conf.int} = \\begin{enumerate*}\n\\item -0.526146157964382\n\\item 0.787984384125509\n\\end{enumerate*}\n",
            "text/plain": [
              "$conf.int\n",
              "[1] -0.5261462  0.7879844\n",
              "attr(,\"conf.level\")\n",
              "[1] 0.95\n"
            ]
          },
          "metadata": {}
        },
        {
          "output_type": "display_data",
          "data": {
            "text/html": [
              "<strong>$estimate</strong> = <style>\n",
              ".dl-inline {width: auto; margin:0; padding: 0}\n",
              ".dl-inline>dt, .dl-inline>dd {float: none; width: auto; display: inline-block}\n",
              ".dl-inline>dt::after {content: \":\\0020\"; padding-right: .5ex}\n",
              ".dl-inline>dt:not(:first-of-type) {padding-left: .5ex}\n",
              "</style><dl class=dl-inline><dt>mean of x</dt><dd>0.0101146764020593</dd><dt>mean of y</dt><dd>-0.120804436678504</dd></dl>\n"
            ],
            "text/markdown": "**$estimate** = mean of x\n:   0.0101146764020593mean of y\n:   -0.120804436678504\n\n",
            "text/latex": "\\textbf{\\$estimate} = \\begin{description*}\n\\item[mean of x] 0.0101146764020593\n\\item[mean of y] -0.120804436678504\n\\end{description*}\n",
            "text/plain": [
              "$estimate\n",
              "  mean of x   mean of y \n",
              " 0.01011468 -0.12080444 \n"
            ]
          },
          "metadata": {}
        },
        {
          "output_type": "display_data",
          "data": {
            "text/html": [
              "<strong>$null.value</strong> = <strong>difference in means:</strong> 0"
            ],
            "text/markdown": "**$null.value** = **difference in means:** 0",
            "text/latex": "\\textbf{\\$null.value} = \\textbf{difference in means:} 0",
            "text/plain": [
              "$null.value\n",
              "difference in means \n",
              "                  0 \n"
            ]
          },
          "metadata": {}
        },
        {
          "output_type": "display_data",
          "data": {
            "text/html": [
              "<strong>$stderr</strong> = 0.324573782496598"
            ],
            "text/markdown": "**$stderr** = 0.324573782496598",
            "text/latex": "\\textbf{\\$stderr} = 0.324573782496598",
            "text/plain": [
              "$stderr\n",
              "[1] 0.3245738\n"
            ]
          },
          "metadata": {}
        },
        {
          "output_type": "display_data",
          "data": {
            "text/html": [
              "<strong>$alternative</strong> = 'two.sided'"
            ],
            "text/markdown": "**$alternative** = 'two.sided'",
            "text/latex": "\\textbf{\\$alternative} = 'two.sided'",
            "text/plain": [
              "$alternative\n",
              "[1] \"two.sided\"\n"
            ]
          },
          "metadata": {}
        },
        {
          "output_type": "display_data",
          "data": {
            "text/html": [
              "<strong>$method</strong> = ' Two Sample t-test'"
            ],
            "text/markdown": "**$method** = ' Two Sample t-test'",
            "text/latex": "\\textbf{\\$method} = ' Two Sample t-test'",
            "text/plain": [
              "$method\n",
              "[1] \" Two Sample t-test\"\n"
            ]
          },
          "metadata": {}
        },
        {
          "output_type": "display_data",
          "data": {
            "text/html": [
              "<strong>$data.name</strong> = 'a and b'"
            ],
            "text/markdown": "**$data.name** = 'a and b'",
            "text/latex": "\\textbf{\\$data.name} = 'a and b'",
            "text/plain": [
              "$data.name\n",
              "[1] \"a and b\"\n"
            ]
          },
          "metadata": {}
        }
      ]
    },
    {
      "cell_type": "markdown",
      "source": [
        "### Step 3: Determination of alpha error\n",
        "\n",
        "As mentioned above, when conducting a $t$-test here, we must determine that \"the null hypothesis cannot be rejected (=this is not statistically significant)\" for all pairs of $a$-$b$, $b$-$c$, and $c$-$a$.\n",
        "\n",
        "If the result of any one test is $p<0.05$, it is the Type-I error in a three-group comparison (i.e., saying there is a difference when there is really no difference in the population means)."
      ],
      "metadata": {
        "id": "UjRgHaotXT_y"
      }
    },
    {
      "cell_type": "code",
      "source": [
        "# Let's check the p-value of the t-test for each of ab, bc, ca\n",
        "abtest$p.value\n",
        "bctest$p.value\n",
        "catest$p.value\n",
        "\n",
        "# Create a function \"if any one of ab, bc, ca returns p<0.05, it returns alpha error, otherwise it returns OK\"\n",
        "ifelse(abtest$p.value<0.05|bctest$p.value<0.05|catest$p.value<0.05, \"alpha error\", \"OK\")"
      ],
      "metadata": {
        "colab": {
          "base_uri": "https://localhost:8080/",
          "height": 85
        },
        "id": "Q99zrsR5XT0d",
        "outputId": "715d7cbc-e553-4f81-e57a-52cb23013d67"
      },
      "execution_count": 8,
      "outputs": [
        {
          "output_type": "display_data",
          "data": {
            "text/html": [
              "0.688946322395146"
            ],
            "text/markdown": "0.688946322395146",
            "text/latex": "0.688946322395146",
            "text/plain": [
              "[1] 0.6889463"
            ]
          },
          "metadata": {}
        },
        {
          "output_type": "display_data",
          "data": {
            "text/html": [
              "0.178791197356491"
            ],
            "text/markdown": "0.178791197356491",
            "text/latex": "0.178791197356491",
            "text/plain": [
              "[1] 0.1787912"
            ]
          },
          "metadata": {}
        },
        {
          "output_type": "display_data",
          "data": {
            "text/html": [
              "0.518916807533711"
            ],
            "text/markdown": "0.518916807533711",
            "text/latex": "0.518916807533711",
            "text/plain": [
              "[1] 0.5189168"
            ]
          },
          "metadata": {}
        },
        {
          "output_type": "display_data",
          "data": {
            "text/html": [
              "'OK'"
            ],
            "text/markdown": "'OK'",
            "text/latex": "'OK'",
            "text/plain": [
              "[1] \"OK\""
            ]
          },
          "metadata": {}
        }
      ]
    },
    {
      "cell_type": "markdown",
      "source": [
        "### Step 4: Repeat several times\n",
        "\n",
        "Repeat the above process 10 times.\n",
        "\n",
        "\n",
        "In \"R\" language, this can be done with the command \"for\".\n",
        "\n",
        "- Just in case, we recommend you start with a small number.\n"
      ],
      "metadata": {
        "id": "eSplY9caYdDa"
      }
    },
    {
      "cell_type": "markdown",
      "source": [],
      "metadata": {
        "id": "8AHYuUbmZcP7"
      }
    },
    {
      "cell_type": "code",
      "source": [
        "Number_of_alpha_errors = 0 #0 at the beginning, the following repetitions increase the number of errors\n",
        "for(i in 1:10){\n",
        "a = rnorm(n=20)\n",
        "b = rnorm(n=20)\n",
        "c = rnorm(n=20)\n",
        "abtest = t.test(a,b,var.equal=TRUE)\n",
        "bctest = t.test(b,c,var.equal=TRUE)\n",
        "catest = t.test(c,a,var.equal=TRUE)\n",
        "Number_of_alpha_errors = Number_of_alpha_errors + ifelse(abtest$p.value<0.05|bctest$p.value<0.05|catest$p.value<0.05, 1, 0) # if p<0.05 for any one of ab, bc, ca then return 1, otherwise return 0.\"\n",
        "}\n",
        "Number_of_alpha_errors"
      ],
      "metadata": {
        "colab": {
          "base_uri": "https://localhost:8080/",
          "height": 34
        },
        "id": "NiAagHILXTpb",
        "outputId": "4dfa741d-a88a-41aa-a85f-8d981c58b6b9"
      },
      "execution_count": 11,
      "outputs": [
        {
          "output_type": "display_data",
          "data": {
            "text/html": [
              "1"
            ],
            "text/markdown": "1",
            "text/latex": "1",
            "text/plain": [
              "[1] 1"
            ]
          },
          "metadata": {}
        }
      ]
    },
    {
      "cell_type": "markdown",
      "source": [
        "### Step 5: Find the proportion of alpha errors committed out of \"m\" times\n",
        "\n",
        "After confirming that the program seems to be OK, we run the simulation a large number of times ($m$).\n",
        "\n",
        "- If the proportion of the number of times that an α error is committed out of $m$ simulations exceeds 0.05, it means that \"the significance level is set at 0.05, but in fact the significance is claimed by a more lenient criterion."
      ],
      "metadata": {
        "id": "PiNvNuYkbihr"
      }
    },
    {
      "cell_type": "code",
      "source": [
        "m = 1000 #Specify the number of repetitions m as 1000\n",
        "Number_of_alpha_errors = 0  #0 at the beginning, the following repetitions increase the number of errors\n",
        "for(i in 1:m){\n",
        "a = rnorm(n=20)\n",
        "b = rnorm(n=20)\n",
        "c = rnorm(n=20)\n",
        "abtest = t.test(a,b,var.equal=TRUE)\n",
        "bctest = t.test(b,c,var.equal=TRUE)\n",
        "catest = t.test(c,a,var.equal=TRUE)\n",
        "Number_of_alpha_errors = Number_of_alpha_errors + ifelse(abtest$p.value<0.05|bctest$p.value<0.05|catest$p.value<0.05, 1, 0)\n",
        "}\n",
        "\n",
        "Number_of_alpha_errors/m  #Proportion of α errors committed out of m times"
      ],
      "metadata": {
        "colab": {
          "base_uri": "https://localhost:8080/",
          "height": 34
        },
        "id": "C33FNIiLcKZC",
        "outputId": "3261256d-79bd-4bdd-8ea2-29932a4132ec"
      },
      "execution_count": 13,
      "outputs": [
        {
          "output_type": "display_data",
          "data": {
            "text/html": [
              "0.112"
            ],
            "text/markdown": "0.112",
            "text/latex": "0.112",
            "text/plain": [
              "[1] 0.112"
            ]
          },
          "metadata": {}
        }
      ]
    },
    {
      "cell_type": "markdown",
      "source": [
        "The number obtained here settles at about 10-13%, as you can see by running the above program several times.\n",
        "\n",
        "Compared to the originally intended significance level of $p=0.05$, we can see that we end up claiming \"statistically significant\" with a standard that is more than twice as lenient."
      ],
      "metadata": {
        "id": "ivDSq1_Nc-i9"
      }
    },
    {
      "cell_type": "markdown",
      "source": [
        "The obtained \"committed α-error\" proportion can be calculated 100 times to make a histogram.\n",
        "\n",
        "- In the following, $m=100$ is used because it can be too heavy.\n",
        "- The \"committed α-error\" obtained after 100 calculations is calculated 100 times, so this is still 10,000 calculations."
      ],
      "metadata": {
        "id": "wXTPDIqiddJN"
      }
    },
    {
      "cell_type": "code",
      "source": [
        "m = 100 #Specify the number of repetitions m as 1000\n",
        "committed_alpha_values = numeric(100) # committed_alphaの値を格納するためのベクトルを作成\n",
        "\n",
        "for(i in 1:100){\n",
        "Number_of_alpha_errors = 0  #0 at the beginning, the following repetitions increase the number of errors\n",
        "  for(j in 1:m){\n",
        "  a = rnorm(n=20)\n",
        "  b = rnorm(n=20)\n",
        "  c = rnorm(n=20)\n",
        "  abtest = t.test(a,b,var.equal=TRUE)\n",
        "  bctest = t.test(b,c,var.equal=TRUE)\n",
        "  catest = t.test(c,a,var.equal=TRUE)\n",
        "  Number_of_alpha_errors = Number_of_alpha_errors + ifelse(abtest$p.value<0.05|bctest$p.value<0.05|catest$p.value<0.05, 1, 0)\n",
        "}\n",
        "committed_alpha_values[i] = Number_of_alpha_errors/m  # 実際にαエラーを犯した割合を格納\n",
        "}\n",
        "\n",
        "hist(committed_alpha_values, main=\"Committed Alpha-error histogram\", xlab=\"Comitted Alpha-error proportion\")"
      ],
      "metadata": {
        "colab": {
          "base_uri": "https://localhost:8080/",
          "height": 437
        },
        "id": "dfSn8SosdsQX",
        "outputId": "d6cab748-b92c-418a-eade-86d78b74831e"
      },
      "execution_count": 16,
      "outputs": [
        {
          "output_type": "display_data",
          "data": {
            "text/plain": [
              "Plot with title “Committed Alpha-error histogram”"
            ],
            "image/png": "[encoded data removed]"
          },
          "metadata": {
            "image/png": {
              "width": 420,
              "height": 420
            }
          }
        }
      ]
    }
  ]
}